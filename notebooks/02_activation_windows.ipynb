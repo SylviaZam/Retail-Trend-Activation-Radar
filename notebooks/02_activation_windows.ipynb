{
 "cells": [
  {
   "cell_type": "code",
   "execution_count": null,
   "id": "2343da72",
   "metadata": {},
   "outputs": [],
   "source": [
    "import pandas as pd, numpy as np\n",
    "import matplotlib.pyplot as plt, seaborn as sns\n",
    "from pathlib import Path\n",
    "\n",
    "sns.set_context(\"talk\"); sns.set_style(\"whitegrid\")\n",
    "signals_path = Path(\"../data/trends_signals.csv\")\n",
    "df = pd.read_csv(signals_path, parse_dates=[\"date\"])\n",
    "df[\"month\"] = df[\"date\"].dt.to_period(\"M\").astype(str)\n",
    "df.head()\n"
   ]
  },
  {
   "cell_type": "code",
   "execution_count": null,
   "id": "efb97255",
   "metadata": {},
   "outputs": [],
   "source": [
    "CRIT_YOY = 110.0\n",
    "CRIT_Z   = 1.2\n",
    "\n",
    "agg = (df.groupby([\"keyword\",\"month\"], as_index=False)\n",
    "         .agg(avg_trend=(\"trend_ma\",\"mean\"),\n",
    "              avg_yoy=(\"yoy_idx\",\"mean\"),\n",
    "              avg_z=(\"z_score\",\"mean\"),\n",
    "              days=(\"date\",\"count\"),\n",
    "              hot_days=(\"z_score\", lambda s: int(((s>=CRIT_Z) & (s.notna())).sum()))))\n",
    "agg[\"hot_share\"] = agg[\"hot_days\"] / agg[\"days\"]\n",
    "agg.head(10)\n"
   ]
  },
  {
   "cell_type": "code",
   "execution_count": null,
   "id": "1b30bb6d",
   "metadata": {},
   "outputs": [],
   "source": [
    "def minmax(x):\n",
    "    x = x.astype(float)\n",
    "    lo, hi = np.nanmin(x), np.nanmax(x)\n",
    "    return (x - lo) / (hi - lo) if hi > lo else np.zeros_like(x)\n",
    "\n",
    "tmp = agg.copy()\n",
    "tmp[\"z_scaled\"]   = minmax(tmp[\"avg_z\"].clip(-3, 5))\n",
    "tmp[\"yoy_scaled\"] = minmax(tmp[\"avg_yoy\"].clip(80, 200))\n",
    "tmp[\"act_score\"]  = 0.6*tmp[\"z_scaled\"] + 0.3*tmp[\"yoy_scaled\"] + 0.1*tmp[\"hot_share\"]\n",
    "\n",
    "top_months = (tmp.sort_values([\"keyword\",\"act_score\"], ascending=[True, False])\n",
    "                .groupby(\"keyword\", as_index=False)\n",
    "                .head(3)[[\"keyword\",\"month\",\"act_score\",\"avg_yoy\",\"avg_z\",\"hot_share\"]])\n",
    "top_months\n"
   ]
  },
  {
   "cell_type": "code",
   "execution_count": null,
   "id": "723d9720",
   "metadata": {},
   "outputs": [],
   "source": [
    "import seaborn as sns\n",
    "pv = tmp.pivot(index=\"keyword\", columns=\"month\", values=\"act_score\").fillna(0)\n",
    "\n",
    "plt.figure(figsize=(14, 5 + 0.4*pv.shape[0]))\n",
    "sns.heatmap(pv, cmap=\"viridis\", linewidths=.3, cbar_kws={\"label\": \"Activation score\"})\n",
    "plt.title(\"Activation Radar — momentum by month\")\n",
    "plt.xlabel(\"Month\"); plt.ylabel(\"Keyword\")\n",
    "plt.tight_layout()\n",
    "\n",
    "out_png = Path(\"../assets/activation_radar.png\")\n",
    "out_png.parent.mkdir(parents=True, exist_ok=True)\n",
    "plt.savefig(out_png, dpi=160)\n",
    "out_png.as_posix()\n"
   ]
  },
  {
   "cell_type": "code",
   "execution_count": null,
   "id": "d8103103",
   "metadata": {},
   "outputs": [],
   "source": [
    "from pathlib import Path\n",
    "excel_path = Path(\"../reports/sample_activation_radar.xlsx\")\n",
    "excel_path.parent.mkdir(parents=True, exist_ok=True)\n",
    "\n",
    "with pd.ExcelWriter(excel_path, engine=\"xlsxwriter\", mode=\"a\", if_sheet_exists=\"replace\") as writer:\n",
    "    tmp.sort_values([\"keyword\",\"month\"]).to_excel(writer, index=False, sheet_name=\"Activation_Radar\")\n",
    "    top_months.to_excel(writer, index=False, sheet_name=\"Top_Months\")\n",
    "\n",
    "    wb = writer.book\n",
    "    # autosize columns\n",
    "    for name, df_ in [(\"Activation_Radar\", tmp), (\"Top_Months\", top_months)]:\n",
    "        ws = writer.sheets[name]\n",
    "        for j, col in enumerate(df_.columns):\n",
    "            width = max(12, min(40,\n",
    "                                len(str(col))+4,\n",
    "                                int(df_[col].astype(str).str.len().quantile(0.9))+2))\n",
    "            ws.set_column(j, j, width)\n",
    "\n",
    "excel_path.as_posix()\n"
   ]
  },
  {
   "cell_type": "code",
   "execution_count": null,
   "id": "b501ea34",
   "metadata": {},
   "outputs": [],
   "source": [
    "reco = (top_months.sort_values([\"keyword\",\"act_score\"], ascending=[True, False])\n",
    "        .groupby(\"keyword\").head(1).copy())\n",
    "reco[\"rec\"] = (\"Prioritize activation in \" + reco[\"month\"] +\n",
    "               \" given high momentum (score=\" + reco[\"act_score\"].round(2).astype(str) +\n",
    "               \", YoY=\" + reco[\"avg_yoy\"].round(1).astype(str) +\n",
    "               \", z=\" + reco[\"avg_z\"].round(2).astype(str) + \").\")\n",
    "reco[[\"keyword\",\"rec\"]]\n"
   ]
  }
 ],
 "metadata": {
  "language_info": {
   "name": "python"
  }
 },
 "nbformat": 4,
 "nbformat_minor": 5
}
